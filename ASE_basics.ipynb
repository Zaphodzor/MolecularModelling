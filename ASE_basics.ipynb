{
 "cells": [
  {
   "cell_type": "markdown",
   "id": "f0954d35-a9f2-4839-a33f-57d100123d36",
   "metadata": {},
   "source": [
    "# Basics of ASE environment\n",
    "\n",
    "ASE is an Atomic Simulation Environment written in the Python programming language with the aim of setting up, steering, and analyzing atomistic simulations.\n",
    "\n",
    "It is a very well documanted environment and their website provides practical examples on how to use in molecular modelling.\n",
    "\n",
    "https://wiki.fysik.dtu.dk/ase/about.html\n"
   ]
  },
  {
   "cell_type": "markdown",
   "id": "c1ca6a5e-e605-4f96-b1ef-8674e705f70b",
   "metadata": {},
   "source": [
    "## Modules\n",
    "\n",
    "To begin use of ASE, we have to download certain modules.\n"
   ]
  },
  {
   "cell_type": "code",
   "execution_count": null,
   "id": "74577b59-e2c0-4352-bc7a-d2ad3abcf453",
   "metadata": {},
   "outputs": [],
   "source": [
    "from ase import Atoms\n",
    "from gpaw import GPAW, PW\n",
    "from ase.constraints import FixAtoms\n",
    "from ase.optimize import QuasiNewton\n",
    "from ase.build import fcc111\n",
    "from ase.visualize import view\n",
    "from ase.io import read, write\n",
    "import time"
   ]
  },
  {
   "cell_type": "markdown",
   "id": "0af0afce-839e-4e97-8edd-341908bf1dc3",
   "metadata": {},
   "source": [
    "## Set up a surface\n",
    "\n",
    "Next, we will set-up a palladium surface\n"
   ]
  },
  {
   "cell_type": "code",
   "execution_count": null,
   "id": "eeac0184-d7b3-4990-a4e0-5bd7400f7876",
   "metadata": {},
   "outputs": [],
   "source": [
    "a_Pd = 2.704 \n",
    "slab = fcc111('Pd', a=a_Pd, size=(2, 2, 2), vacuum=5.0)\n"
   ]
  }
 ],
 "metadata": {
  "kernelspec": {
   "display_name": "Python 3 (ipykernel)",
   "language": "python",
   "name": "python3"
  },
  "language_info": {
   "codemirror_mode": {
    "name": "ipython",
    "version": 3
   },
   "file_extension": ".py",
   "mimetype": "text/x-python",
   "name": "python",
   "nbconvert_exporter": "python",
   "pygments_lexer": "ipython3",
   "version": "3.11.7"
  }
 },
 "nbformat": 4,
 "nbformat_minor": 5
}
